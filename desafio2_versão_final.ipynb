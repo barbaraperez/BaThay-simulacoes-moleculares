{
 "cells": [
  {
   "cell_type": "markdown",
   "id": "4b9b1cb1-ace3-4bd8-9ac4-89423fd7a87e",
   "metadata": {},
   "source": [
    "### Criação das bolinhas"
   ]
  },
  {
   "cell_type": "code",
   "execution_count": 1,
   "id": "84a79b07-9ad8-444a-b68b-e22215c1cc08",
   "metadata": {},
   "outputs": [
    {
     "name": "stdout",
     "output_type": "stream",
     "text": [
      "pygame 2.5.0 (SDL 2.28.0, Python 3.9.7)\n",
      "Hello from the pygame community. https://www.pygame.org/contribute.html\n"
     ]
    },
    {
     "data": {
      "image/png": "[encoded data removed]",
      "text/plain": [
       "<Figure size 432x288 with 1 Axes>"
      ]
     },
     "metadata": {
      "needs_background": "light"
     },
     "output_type": "display_data"
    }
   ],
   "source": [
    "import numpy as np\n",
    "import pygame\n",
    "import random\n",
    "import math\n",
    "import numpy as np\n",
    "import matplotlib.pyplot as plt\n",
    "from scipy.stats import norm\n",
    "\n",
    "# Inicialização do pygame\n",
    "pygame.init()\n",
    "\n",
    "# Parâmetros\n",
    "num_atoms = 130\n",
    "temperatura = 8 # em Kelvin\n",
    "raio = 4\n",
    "massa = 20\n",
    "raioB = 8\n",
    "massaB = 30\n",
    "\n",
    "# Parâmetros da janela\n",
    "width, height = 800, 600\n",
    "window = pygame.display.set_mode((width, height))\n",
    "pygame.display.set_caption(\"Simulação da Colisão Elástica\")\n",
    "\n",
    "# Cores\n",
    "white = (255, 255, 255)\n",
    "red = (255, 0, 0)\n",
    "azul = (0, 0, 255)\n",
    "color = red\n",
    "### Preciso definir as bolinhas, quem são e como serão representadas\n",
    "\n",
    "## Tem uma velocidade no eixo x, velocidade no eixo y, posição inicial em x e posição inicial em y\n",
    "\n",
    "## Vamos fazer a representação das bolinhas utilizando matrizes do numpy, preenchida com zeros e 1, sendo 1 a representação dela\n",
    "class atomo:\n",
    "    \"\"\"Essa classe irá representar os nossos átomos,\n",
    "    \n",
    "    Terá a posição inicial deles, sua velocidade em x e y, e o seu raio.\"\"\"\n",
    "    \n",
    "    def __init__(self, tipo, x,y, raio, temperatura, massa, syles=None):\n",
    "        '''definindo como que cada parâmetro irá se inicializar'''\n",
    "    \n",
    "        #Para gerar os valores aleatórios vamos utilizar uma função do numpy chamda random uniform que gera valores aleatórios seguindo \n",
    "        ## um intervalo de valores específicado\n",
    "        self.tipo = tipo\n",
    "        self.p = np.array((x,y)) #defino a posição das bolinhas\n",
    "        vx = random.randint(-4,4)\n",
    "        vy = random.randint(-4,4)\n",
    "        self.v = np.array((vx,vy))\n",
    "        self.caract = np.array((temperatura,massa,raio)) #Definindo características das bolinhas\n",
    "      \n",
    "    # Movimento das bolinhas\n",
    "    \n",
    "    def movimento(self, dt = 0.75):\n",
    "        \n",
    "    \n",
    "        self.p = self.p + self.v *dt\n",
    "\n",
    "        #Restringir a região das bolinhas\n",
    "\n",
    "        self.p[0] = max(self.caract[2], min(self.p[0], width - self.caract[2]))\n",
    "        self.p[1] = max(self.caract[2], min(self.p[1], height - self.caract[2]))\n",
    "        \n",
    "    #Verificando se há colisão entre elas\n",
    "    \n",
    "    def verifica_colisao(self,b2):\n",
    "        distance = math.sqrt((self.p[0] - b2.p[0])**2 + (self.p[1] - b2.p[1])**2)\n",
    "        return distance <= self.caract[2] + b2.caract[2]\n",
    "     \n",
    "\n",
    "    def aplica_colisao(self,b2):\n",
    "        \n",
    "        dx = b2.p[0] - self.p[0]\n",
    "        dy = b2.p[1] - self.p[1]\n",
    "        \n",
    "        distancia = math.sqrt(dx**2 + dy**2)\n",
    "        \n",
    "        dx_futuro = (b2.p[0] + b2.v[0]) - (self.p[0] + self.v[0])\n",
    "        dy_futuro = (b2.p[1] + b2.v[1]) - (self.p[1] + self.v[1])\n",
    "        distancia_futura = math.sqrt(dx_futuro**2 + dy_futuro**2)\n",
    "        \n",
    "        if distancia_futura < distancia:\n",
    "            m1,m2 = 4e-23, 4e-23#self.caract[2]**2, b2.caract[2]**2\n",
    "            M = m1 + m2\n",
    "            r1,r2 = self.p, b2.p\n",
    "            \n",
    "            d = np.linalg.norm(r1-r2)**2\n",
    "                \n",
    "            v1, v2 = abs(self.v), abs(b2.v)\n",
    "            u1 = v1 - 2*m2/M *(np.dot(v1-v2,r1-r2)/d)* (r1-r2)\n",
    "            u2 = v2 - 2*m1/M * np.dot(v2-v1,r2-r1)/d * (r2-r1)\n",
    "            self.v = u1\n",
    "            b2.v = -u2\n",
    "    \n",
    "    def colisao_parede(self):\n",
    "        \n",
    "            # Refletir a direção da bola quando colide com as paredes\n",
    "        if (self.p[0] - self.caract[2] <= 0).any(): #and self.v[0] < 0\n",
    "            self.v[0] = (-self.v[0])          \n",
    "            \n",
    "            \n",
    "        if (self.p[0] + self.caract[2] >= width).any(): #and self.v[0] > 0:\n",
    "            self.v[0] = (-self.v[0]) \n",
    "\n",
    "        if (self.p[1] - self.caract[2] <= 0).any(): #and self.v[1] < 0:\n",
    "            self.v[1] = (-self.v[1]) \n",
    "            \n",
    "        if (self.p[1] + self.caract[2] >= height).any(): # and self.v[1] > 0 :\n",
    "            self.v[1] = (-self.v[1]) \n",
    "                \n",
    "\n",
    "#lista de atomos\n",
    "\n",
    "atomos = []\n",
    "tipo = \"A\"\n",
    "\n",
    "for _ in range(num_atoms):\n",
    "    valid_position = False\n",
    "    while not valid_position:\n",
    "        x = random.randint(50, width - 50)\n",
    "        y = random.randint(50, height - 50)\n",
    "    \n",
    "        # Verificar se a posição não está muito próxima de outras posições já escolhidas\n",
    "        if all(math.sqrt((x-atom.p[0])**2 + (y - atom.p[1])**2) >= 3 * atom.caract[2] for atom in atomos):\n",
    "            if all(math.sqrt((x - atom.p[0])**2 + (y - atom.p[1])**2) >= 3 * atom.caract[2] for atom in atomos):\n",
    "                valid_position = True\n",
    "\n",
    "    atom = atomo(tipo, x, y, raio, temperatura, massa)\n",
    "    atomos.append(atom)\n",
    "\n",
    "# Dicionários com a informações das velocidades e concentração\n",
    "\n",
    "\n",
    "\n",
    "\n",
    "\n",
    " # Loop principal\n",
    "evolucao = {}\n",
    "tempos = []\n",
    "concentracoes = []\n",
    "running = True\n",
    "clock = pygame.time.Clock()\n",
    "dt = 0.75\n",
    "n = -1\n",
    "while running:\n",
    "    n+=1\n",
    "    color = red\n",
    "    c_A = 0\n",
    "    c_B = 0\n",
    "    \n",
    "    for event in pygame.event.get():\n",
    "        if event.type == pygame.QUIT:\n",
    "            running = False\n",
    "\n",
    "    window.fill(white)\n",
    "\n",
    "    for atom in atomos:\n",
    "        atom.movimento(dt=dt)\n",
    "        atom.colisao_parede()\n",
    "        \n",
    "        if atom.tipo == \"A\":\n",
    "            c_A+=1\n",
    "        \n",
    "        if atom.tipo == \"B\":\n",
    "            c_B+=1\n",
    "            color = azul\n",
    "        \n",
    "        pygame.draw.circle(window, color, (int(atom.p[0]), int(atom.p[1])), atom.caract[2])\n",
    "\n",
    "    # Verificar colisões\n",
    "    lista_remover = []\n",
    "    atomos_num = []\n",
    "    for i in range(len(atomos)):\n",
    "        for j in range(i + 1, len(atomos)):\n",
    "            if atomos[i].verifica_colisao(atomos[j]):\n",
    "                if atomos[i].tipo == \"A\" and atomos[i].tipo == atomos[j].tipo: \n",
    "                    \n",
    "                    x_novo = (atomos[i].p[0] + atomos[j].p[0])/2\n",
    "                    y_novo = (atomos[i].p[1] + atomos[j].p[1])/2\n",
    "                    \n",
    "                    atom = atomo(\"B\", x_novo, y_novo, raioB, temperatura, massaB)\n",
    "                    atomos_num.append(1)\n",
    "                    atomos.append(atom)\n",
    "                    \n",
    "                    lista_remover.append(atomos[i])\n",
    "                    lista_remover.append(atomos[j])\n",
    "                    #atomos[i].aplica_colisao(atomos[j])\n",
    "                    \n",
    "                else:\n",
    "                    atomos[i].aplica_colisao(atomos[j])\n",
    "    \n",
    "    # problema: o que estava no índice j não está mais, pois a lista mudou de tamanho quando o i foi deletado\n",
    "    \n",
    "    if len(lista_remover) != 0:\n",
    "        for c in lista_remover:\n",
    "            atomos.remove(c)\n",
    "\n",
    "    \n",
    "    pygame.display.flip()\n",
    "    clock.tick(200)\n",
    "    \n",
    "    # Cálculo da velocidade\n",
    "    concentracoes.append(sum(atomos_num))\n",
    "    tempos.append(pygame.time.get_ticks())\n",
    "    if sum(atomos_num) != len(atomos): \n",
    "        tempo = pygame.time.get_ticks()\n",
    "        \n",
    "    evolucao[n] = {}\n",
    "    evolucao[n][\"tempo\"] = n*dt\n",
    "    \n",
    "    evolucao[n][\"A\"] = c_A\n",
    "    \n",
    "    evolucao[n][\"B\"] = c_B\n",
    "        \n",
    "    \n",
    "\n",
    "velocidade_reacao = len(atomos)/tempo\n",
    "\n",
    "pygame.quit()\n",
    "\n",
    "velocidades = []\n",
    "\n",
    "for i in range(len(tempos) - 1):\n",
    "    velocidades.append(concentracoes[i]/tempos[i])\n",
    "\n",
    "\n",
    "\n",
    "# Coletar as velocidades das partículas ao longo do tempo\n",
    "velocidades = []\n",
    "for a in atomos:\n",
    "    v_norm = (((a.v[0])**2)+((a.v[1])**2))**(1/2)\n",
    "    velocidades.append(v_norm)\n",
    "\n",
    "# Criar um histograma das velocidades\n",
    "plt.figure()\n",
    "plt.hist(velocidades, bins=10, density=True, alpha=0.4)\n",
    "\n",
    "# Ajustar os dados a uma distribuição gaussiana usando a função norm.fit()\n",
    "mu, sigma = norm.fit(velocidades)\n",
    "\n",
    "# Calcular a distribuição gaussiana ajustada\n",
    "x = np.linspace(np.min(velocidades), np.max(velocidades), 100)\n",
    "normalizado = norm.pdf(x, mu, sigma)\n",
    "plt.plot(x, normalizado,  color='red',linewidth=2)\n",
    "\n",
    "\n",
    "\n",
    "plt.xlabel('Velocidade')\n",
    "plt.ylabel('Número de partículas')\n",
    "plt.title('Distribuição de Maxwell-Boltzman')\n",
    "plt.show()\n",
    "        "
   ]
  },
  {
   "cell_type": "code",
   "execution_count": 2,
   "id": "8f7763ec-b755-4c8e-8a1d-cbfd29641a28",
   "metadata": {},
   "outputs": [
    {
     "data": {
      "image/png": "[encoded data removed]",
      "text/plain": [
       "<Figure size 432x288 with 1 Axes>"
      ]
     },
     "metadata": {
      "needs_background": "light"
     },
     "output_type": "display_data"
    }
   ],
   "source": [
    "#Calcula as variações de concentração\n",
    "\n",
    "tempos = []\n",
    "concentracao_A = []\n",
    "concentracao_B = []\n",
    "\n",
    "for item in evolucao:\n",
    "    tempos.append(evolucao[item][\"tempo\"])\n",
    "    concentracao_A.append(evolucao[item][\"A\"])\n",
    "    concentracao_B.append(evolucao[item][\"B\"])\n",
    "\n",
    "plt.plot(tempos, concentracao_A, label = '[A]')\n",
    "plt.plot(tempos, concentracao_B , label = '[B]')\n",
    "plt.legend()\n",
    "plt.xlabel('Tempo')\n",
    "plt.ylabel('Concentrações')\n",
    "plt.show()"
   ]
  },
  {
   "cell_type": "code",
   "execution_count": 104,
   "id": "e1d73d47-c8dd-4ed3-9bd8-8cc7231a2163",
   "metadata": {},
   "outputs": [],
   "source": [
    "def decaimento_exponencial(T, concentracao_A0, K):\n",
    "    return concentracao_A0 * np.exp(-K * T)"
   ]
  },
  {
   "cell_type": "code",
   "execution_count": 112,
   "id": "1e5c525f-e2c8-419d-ac9b-9d4dca82eeaa",
   "metadata": {},
   "outputs": [
    {
     "data": {
      "image/png": "[encoded data removed]",
      "text/plain": [
       "<Figure size 432x288 with 1 Axes>"
      ]
     },
     "metadata": {
      "needs_background": "light"
     },
     "output_type": "display_data"
    }
   ],
   "source": [
    "from lmfit import Model\n",
    "concentracao_A0_inicial = -1000.0  \n",
    "K_inicial = 0.1 #0.035  \n",
    "\n",
    "model = Model(decaimento_exponencial)\n",
    "T = tempos\n",
    "\n",
    "\n",
    "model.set_param_hint('concentracao_A0', value=concentracao_A0_inicial)\n",
    "model.set_param_hint('K', value=K_inicial)\n",
    "\n",
    "result = model.fit(concentracao_A, T=T, concentracao_A0=concentracao_A0_inicial, K=K_inicial, nan_policy='omit')\n",
    "\n",
    "\n",
    "fit_parameters = result.params\n",
    "concentracao_A0_fit = fit_parameters['concentracao_A0'].value\n",
    "K_fit = fit_parameters['K'].value\n",
    "\n",
    "\n",
    "T_fitted = np.linspace(min(T), max(T), 100)\n",
    "concentracao_fitted = decaimento_exponencial(T_fitted, concentracao_A0_fit, K_fit)\n",
    "\n",
    "\n",
    "plt.plot(tempos, concentracao_A, label='Dados', color='b')\n",
    "plt.plot(T_fitted, concentracao_fitted, label='Fit', color='r')\n",
    "plt.xlabel('T')\n",
    "plt.ylabel('Concentration')\n",
    "plt.legend()\n",
    "plt.show()\n"
   ]
  },
  {
   "cell_type": "code",
   "execution_count": 114,
   "id": "a457cb04-104a-474d-92a2-763bb974555e",
   "metadata": {},
   "outputs": [
    {
     "name": "stdout",
     "output_type": "stream",
     "text": [
      "[[Model]]\n",
      "    Model(decaimento_exponencial)\n",
      "[[Fit Statistics]]\n",
      "    # fitting method   = leastsq\n",
      "    # function evals   = 42\n",
      "    # data points      = 1927\n",
      "    # variables        = 2\n",
      "    chi-square         = 31785.9461\n",
      "    reduced chi-square = 16.5121798\n",
      "    Akaike info crit   = 5405.49634\n",
      "    Bayesian info crit = 5416.62378\n",
      "[[Variables]]\n",
      "    concentracao_A0:  95.1567067 +/- 0.55752032 (0.59%) (init = -1000)\n",
      "    K:                0.00633488 +/- 5.2613e-05 (0.83%) (init = 0.1)\n",
      "[[Correlations]] (unreported correlations are < 0.100)\n",
      "    C(concentracao_A0, K) =  0.705\n"
     ]
    }
   ],
   "source": [
    "print(result.fit_report())"
   ]
  },
  {
   "cell_type": "code",
   "execution_count": 103,
   "id": "20367d7b-5de4-4a99-97c6-3370b2afb211",
   "metadata": {
    "tags": []
   },
   "outputs": [
    {
     "name": "stdout",
     "output_type": "stream",
     "text": [
      "Variável independente: ['T']\n",
      "Parâmetros do modelo: ['log_concentracao_A0', 'K', 'T0']\n",
      "[[Model]]\n",
      "    Model(VFT)\n",
      "[[Fit Statistics]]\n",
      "    # fitting method   = leastsq\n",
      "    # function evals   = 38\n",
      "    # data points      = 1927\n",
      "    # variables        = 3\n",
      "    chi-square         = 7826.22917\n",
      "    reduced chi-square = 4.06768668\n",
      "    Akaike info crit   = 2706.72213\n",
      "    Bayesian info crit = 2723.41329\n",
      "[[Variables]]\n",
      "    log_concentracao_A0: -3.92146576 +/- 0.08855528 (2.26%) (init = -8)\n",
      "    K:                    7391.21237 +/- 52.3915039 (0.71%) (init = 1000)\n",
      "    T0:                  -58.5746401 +/- 0.55480997 (0.95%) (init = -100)\n",
      "[[Correlations]] (unreported correlations are < 0.100)\n",
      "    C(K, T0)                   = -0.938\n",
      "    C(log_concentracao_A0, K)  = -0.835\n",
      "    C(log_concentracao_A0, T0) =  0.719\n"
     ]
    }
   ],
   "source": [
    "\n",
    "def VFT(T, log_concentracao_A0, K, T0):\n",
    "    log_concentracao = log_concentracao_A0 +  K / (T - T0)\n",
    "    return log_concentracao\n",
    "\n",
    "x = tempos\n",
    "y_log = concentracao_A\n",
    "\n",
    "modelo_VFT = Model(VFT)\n",
    " \n",
    "print(f'Variável independente: {modelo_VFT.independent_vars}')\n",
    "\n",
    "print(f'Parâmetros do modelo: {modelo_VFT.param_names}')\n",
    " \n",
    "params = modelo_VFT.make_params(log_concentracao_A0=-8, K=1000, T0=-100)\n",
    " \n",
    "resultado_fit = modelo_VFT.fit(y_log, params, T=x)\n",
    "print(resultado_fit.fit_report())\n",
    "#print(resultado_fit.fit_report())"
   ]
  },
  {
   "cell_type": "code",
   "execution_count": 7,
   "id": "d0f31492-1d80-4dc3-aef3-cfc3be846f8d",
   "metadata": {},
   "outputs": [
    {
     "data": {
      "image/png": "[encoded data removed]",
      "text/plain": [
       "<Figure size 432x288 with 1 Axes>"
      ]
     },
     "metadata": {
      "needs_background": "light"
     },
     "output_type": "display_data"
    }
   ],
   "source": [
    "plt.plot(x, y_log)\n",
    "#plt.plot(x, resultado_fit.init_fit, '--', label='Palpite inicial')\n",
    "plt.plot(x, resultado_fit.best_fit, '-', label='Melhor ajuste encontrado')\n",
    "plt.legend()\n",
    "plt.show()"
   ]
  },
  {
   "cell_type": "code",
   "execution_count": 9,
   "id": "fdf6517c-950e-49cf-8659-0dea5193ea83",
   "metadata": {},
   "outputs": [
    {
     "data": {
      "text/plain": [
       "-0.28541628000000213"
      ]
     },
     "execution_count": 9,
     "metadata": {},
     "output_type": "execute_result"
    }
   ],
   "source": [
    "(44.9112297 - 45.12529191)/0.75"
   ]
  },
  {
   "cell_type": "code",
   "execution_count": 10,
   "id": "877dd8eb-fea6-4c4f-a362-0eb22cfdb535",
   "metadata": {},
   "outputs": [
    {
     "data": {
      "image/png": "[encoded data removed]",
      "text/plain": [
       "<Figure size 432x288 with 1 Axes>"
      ]
     },
     "metadata": {
      "needs_background": "light"
     },
     "output_type": "display_data"
    }
   ],
   "source": [
    "y_p = np.diff(resultado_fit.best_fit) / np.diff(x)\n",
    "x_p = (np.array(x)[:-1] + np.array(x)[1:]) / 2\n",
    "\n",
    "derivada = np.array(y_p)*-1\n",
    "plt.figure(1)\n",
    "#plt.plot(x, resultado_fit.best_fit, 'r')\n",
    "plt.plot(x_p, derivada, 'b')\n",
    "plt.show()"
   ]
  },
  {
   "cell_type": "code",
   "execution_count": 11,
   "id": "d43eb443-80e1-4cde-9740-4619e6ab9afe",
   "metadata": {},
   "outputs": [
    {
     "ename": "NameError",
     "evalue": "name 'indices' is not defined",
     "output_type": "error",
     "traceback": [
      "\u001b[1;31m---------------------------------------------------------------------------\u001b[0m",
      "\u001b[1;31mNameError\u001b[0m                                 Traceback (most recent call last)",
      "\u001b[1;32mC:\\Users\\THAYNA~1.ABT\\AppData\\Local\\Temp/ipykernel_19584/3351765968.py\u001b[0m in \u001b[0;36m<module>\u001b[1;34m\u001b[0m\n\u001b[0;32m      1\u001b[0m \u001b[0mderivada\u001b[0m \u001b[1;33m=\u001b[0m \u001b[1;33m[\u001b[0m\u001b[1;36m0.29\u001b[0m\u001b[1;33m,\u001b[0m \u001b[1;36m1.57\u001b[0m\u001b[1;33m,\u001b[0m \u001b[1;36m5.91\u001b[0m\u001b[1;33m]\u001b[0m\u001b[1;33m\u001b[0m\u001b[1;33m\u001b[0m\u001b[0m\n\u001b[0;32m      2\u001b[0m \u001b[0mnum_atomos\u001b[0m \u001b[1;33m=\u001b[0m \u001b[1;33m[\u001b[0m\u001b[1;36m50\u001b[0m\u001b[1;33m,\u001b[0m \u001b[1;36m100\u001b[0m\u001b[1;33m,\u001b[0m \u001b[1;36m150\u001b[0m\u001b[1;33m]\u001b[0m\u001b[1;33m\u001b[0m\u001b[1;33m\u001b[0m\u001b[0m\n\u001b[1;32m----> 3\u001b[1;33m \u001b[0mplt\u001b[0m\u001b[1;33m.\u001b[0m\u001b[0mscatter\u001b[0m\u001b[1;33m(\u001b[0m\u001b[0mindices\u001b[0m\u001b[1;33m,\u001b[0m \u001b[0mlista_de_pontos\u001b[0m\u001b[1;33m,\u001b[0m \u001b[0mlabel\u001b[0m\u001b[1;33m=\u001b[0m\u001b[1;34m'Pontos'\u001b[0m\u001b[1;33m,\u001b[0m \u001b[0mcolor\u001b[0m\u001b[1;33m=\u001b[0m\u001b[1;34m'blue'\u001b[0m\u001b[1;33m,\u001b[0m \u001b[0mmarker\u001b[0m\u001b[1;33m=\u001b[0m\u001b[1;34m'o'\u001b[0m\u001b[1;33m)\u001b[0m\u001b[1;33m\u001b[0m\u001b[1;33m\u001b[0m\u001b[0m\n\u001b[0m\u001b[0;32m      4\u001b[0m \u001b[0mplt\u001b[0m\u001b[1;33m.\u001b[0m\u001b[0mshow\u001b[0m\u001b[1;33m(\u001b[0m\u001b[1;33m)\u001b[0m\u001b[1;33m\u001b[0m\u001b[1;33m\u001b[0m\u001b[0m\n",
      "\u001b[1;31mNameError\u001b[0m: name 'indices' is not defined"
     ]
    }
   ],
   "source": [
    "derivada = [0.29, 1.57, 5.91]\n",
    "num_atomos = [50, 100, 150]\n",
    "plt.scatter(indices, lista_de_pontos, label='Pontos', color='blue', marker='o')\n",
    "plt.show()"
   ]
  },
  {
   "cell_type": "code",
   "execution_count": null,
   "id": "3ba31a07-bcb2-46d3-8583-60f22c381f09",
   "metadata": {},
   "outputs": [],
   "source": []
  }
 ],
 "metadata": {
  "kernelspec": {
   "display_name": "ilumpy",
   "language": "python",
   "name": "ilumpy"
  },
  "language_info": {
   "codemirror_mode": {
    "name": "ipython",
    "version": 3
   },
   "file_extension": ".py",
   "mimetype": "text/x-python",
   "name": "python",
   "nbconvert_exporter": "python",
   "pygments_lexer": "ipython3",
   "version": "3.9.7"
  }
 },
 "nbformat": 4,
 "nbformat_minor": 5
}
