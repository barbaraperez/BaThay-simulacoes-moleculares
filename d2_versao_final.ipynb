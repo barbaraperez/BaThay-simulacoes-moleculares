{
 "cells": [
  {
   "cell_type": "markdown",
   "id": "4b9b1cb1-ace3-4bd8-9ac4-89423fd7a87e",
   "metadata": {},
   "source": [
    "### Importações"
   ]
  },
  {
   "cell_type": "code",
   "execution_count": 5,
   "id": "8ebd9756-9af1-490d-8c6a-bd6c492ab2f0",
   "metadata": {},
   "outputs": [],
   "source": [
    "import numpy as np\n",
    "import pygame\n",
    "import random\n",
    "import math\n",
    "import numpy as np\n",
    "import matplotlib.pyplot as plt\n",
    "from scipy.stats import norm\n",
    "from lmfit import Model"
   ]
  },
  {
   "cell_type": "markdown",
   "id": "3d0f8bad-9ba7-4514-905f-ba47ceb0c8b2",
   "metadata": {},
   "source": [
    "### Simulação"
   ]
  },
  {
   "cell_type": "code",
   "execution_count": 6,
   "id": "84a79b07-9ad8-444a-b68b-e22215c1cc08",
   "metadata": {},
   "outputs": [],
   "source": [
    "\n",
    "# Inicialização do pygame\n",
    "pygame.init()\n",
    "\n",
    "# Parâmetros\n",
    "num_atoms = 120\n",
    "temperatura = 8 # em Kelvin\n",
    "raio = 4\n",
    "massa = 20\n",
    "raioB = 8\n",
    "massaB = 30\n",
    "\n",
    "# Parâmetros da janela\n",
    "width, height = 800, 600\n",
    "window = pygame.display.set_mode((width, height))\n",
    "pygame.display.set_caption(\"Simulação da Colisão Elástica\")\n",
    "\n",
    "# Cores\n",
    "white = (255, 255, 255)\n",
    "red = (255, 0, 0)\n",
    "azul = (0, 0, 255)\n",
    "color = red\n",
    "### Preciso definir as bolinhas, quem são e como serão representadas\n",
    "\n",
    "## Tem uma velocidade no eixo x, velocidade no eixo y, posição inicial em x e posição inicial em y\n",
    "\n",
    "## Vamos fazer a representação das bolinhas utilizando matrizes do numpy, preenchida com zeros e 1, sendo 1 a representação dela\n",
    "class atomo:\n",
    "    \"\"\"Essa classe irá representar os nossos átomos,\n",
    "    \n",
    "    Terá a posição inicial deles, sua velocidade em x e y, e o seu raio.\"\"\"\n",
    "    \n",
    "    def __init__(self, tipo, x,y, raio, temperatura, massa, syles=None):\n",
    "        '''definindo como que cada parâmetro irá se inicializar'''\n",
    "    \n",
    "        #Para gerar os valores aleatórios vamos utilizar uma função do numpy chamda random uniform que gera valores aleatórios seguindo \n",
    "        ## um intervalo de valores específicado\n",
    "        self.tipo = tipo\n",
    "        self.p = np.array((x,y)) #defino a posição das bolinhas\n",
    "        vx = random.randint(-4,4)\n",
    "        vy = random.randint(-4,4)\n",
    "        self.v = np.array((vx,vy))\n",
    "        self.caract = np.array((temperatura,massa,raio)) #Definindo características das bolinhas\n",
    "      \n",
    "    # Movimento das bolinhas\n",
    "    \n",
    "    def movimento(self, dt = 0.75):\n",
    "        \n",
    "    \n",
    "        self.p = self.p + self.v *dt\n",
    "\n",
    "        #Restringir a região das bolinhas\n",
    "\n",
    "        self.p[0] = max(self.caract[2], min(self.p[0], width - self.caract[2]))\n",
    "        self.p[1] = max(self.caract[2], min(self.p[1], height - self.caract[2]))\n",
    "        \n",
    "    #Verificando se há colisão entre elas\n",
    "    \n",
    "    def verifica_colisao(self,b2):\n",
    "        distance = math.sqrt((self.p[0] - b2.p[0])**2 + (self.p[1] - b2.p[1])**2)\n",
    "        return distance <= self.caract[2] + b2.caract[2]\n",
    "     \n",
    "\n",
    "    def aplica_colisao(self,b2):\n",
    "        \n",
    "        dx = b2.p[0] - self.p[0]\n",
    "        dy = b2.p[1] - self.p[1]\n",
    "        \n",
    "        distancia = math.sqrt(dx**2 + dy**2)\n",
    "        \n",
    "        dx_futuro = (b2.p[0] + b2.v[0]) - (self.p[0] + self.v[0])\n",
    "        dy_futuro = (b2.p[1] + b2.v[1]) - (self.p[1] + self.v[1])\n",
    "        distancia_futura = math.sqrt(dx_futuro**2 + dy_futuro**2)\n",
    "        \n",
    "        if distancia_futura < distancia:\n",
    "            m1,m2 = 4e-23, 4e-23#self.caract[2]**2, b2.caract[2]**2\n",
    "            M = m1 + m2\n",
    "            r1,r2 = self.p, b2.p\n",
    "            \n",
    "            d = np.linalg.norm(r1-r2)**2\n",
    "                \n",
    "            v1, v2 = abs(self.v), abs(b2.v)\n",
    "            u1 = v1 - 2*m2/M *(np.dot(v1-v2,r1-r2)/d)* (r1-r2)\n",
    "            u2 = v2 - 2*m1/M * np.dot(v2-v1,r2-r1)/d * (r2-r1)\n",
    "            self.v = u1\n",
    "            b2.v = -u2\n",
    "    \n",
    "    def colisao_parede(self):\n",
    "        \n",
    "            # Refletir a direção da bola quando colide com as paredes\n",
    "        if (self.p[0] - self.caract[2] <= 0).any(): #and self.v[0] < 0\n",
    "            self.v[0] = (-self.v[0])          \n",
    "            \n",
    "            \n",
    "        if (self.p[0] + self.caract[2] >= width).any(): #and self.v[0] > 0:\n",
    "            self.v[0] = (-self.v[0]) \n",
    "\n",
    "        if (self.p[1] - self.caract[2] <= 0).any(): #and self.v[1] < 0:\n",
    "            self.v[1] = (-self.v[1]) \n",
    "            \n",
    "        if (self.p[1] + self.caract[2] >= height).any(): # and self.v[1] > 0 :\n",
    "            self.v[1] = (-self.v[1]) \n",
    "                \n",
    "\n",
    "#lista de atomos\n",
    "\n",
    "atomos = []\n",
    "tipo = \"A\"\n",
    "\n",
    "for _ in range(num_atoms):\n",
    "    valid_position = False\n",
    "    while not valid_position:\n",
    "        x = random.randint(50, width - 50)\n",
    "        y = random.randint(50, height - 50)\n",
    "    \n",
    "        # Verificar se a posição não está muito próxima de outras posições já escolhidas\n",
    "        if all(math.sqrt((x-atom.p[0])**2 + (y - atom.p[1])**2) >= 3 * atom.caract[2] for atom in atomos):\n",
    "            if all(math.sqrt((x - atom.p[0])**2 + (y - atom.p[1])**2) >= 3 * atom.caract[2] for atom in atomos):\n",
    "                valid_position = True\n",
    "\n",
    "    atom = atomo(tipo, x, y, raio, temperatura, massa)\n",
    "    atomos.append(atom)\n",
    "\n",
    "# Dicionários com a informações das velocidades e concentração\n",
    "\n",
    "\n",
    "\n",
    "\n",
    "\n",
    " # Loop principal\n",
    "evolucao = {}\n",
    "tempos = []\n",
    "concentracoes = []\n",
    "running = True\n",
    "clock = pygame.time.Clock()\n",
    "dt = 0.75\n",
    "n = -1\n",
    "while running:\n",
    "    n+=1\n",
    "    color = red\n",
    "    c_A = 0\n",
    "    c_B = 0\n",
    "    \n",
    "    for event in pygame.event.get():\n",
    "        if event.type == pygame.QUIT:\n",
    "            running = False\n",
    "\n",
    "    window.fill(white)\n",
    "\n",
    "    for atom in atomos:\n",
    "        atom.movimento(dt=dt)\n",
    "        atom.colisao_parede()\n",
    "        \n",
    "        if atom.tipo == \"A\":\n",
    "            c_A+=1\n",
    "        \n",
    "        if atom.tipo == \"B\":\n",
    "            c_B+=1\n",
    "            color = azul\n",
    "        \n",
    "        pygame.draw.circle(window, color, (int(atom.p[0]), int(atom.p[1])), atom.caract[2])\n",
    "\n",
    "    # Verificar colisões\n",
    "    lista_remover = []\n",
    "    atomos_num = []\n",
    "    for i in range(len(atomos)):\n",
    "        for j in range(i + 1, len(atomos)):\n",
    "            if atomos[i].verifica_colisao(atomos[j]):\n",
    "                if atomos[i].tipo == \"A\" and atomos[i].tipo == atomos[j].tipo: \n",
    "                    \n",
    "                    x_novo = (atomos[i].p[0] + atomos[j].p[0])/2\n",
    "                    y_novo = (atomos[i].p[1] + atomos[j].p[1])/2\n",
    "                    \n",
    "                    atom = atomo(\"B\", x_novo, y_novo, raioB, temperatura, massaB)\n",
    "                    atomos_num.append(1)\n",
    "                    atomos.append(atom)\n",
    "                    \n",
    "                    lista_remover.append(atomos[i])\n",
    "                    lista_remover.append(atomos[j])\n",
    "                    #atomos[i].aplica_colisao(atomos[j])\n",
    "                    \n",
    "                else:\n",
    "                    atomos[i].aplica_colisao(atomos[j])\n",
    "    \n",
    "    # problema: o que estava no índice j não está mais, pois a lista mudou de tamanho quando o i foi deletado\n",
    "    \n",
    "    if len(lista_remover) != 0:\n",
    "        for c in lista_remover:\n",
    "            atomos.remove(c)\n",
    "\n",
    "    \n",
    "    pygame.display.flip()\n",
    "    clock.tick(200)\n",
    "    \n",
    "    # Cálculo da velocidade\n",
    "    concentracoes.append(sum(atomos_num))\n",
    "    tempos.append(pygame.time.get_ticks())\n",
    "    if sum(atomos_num) != len(atomos): \n",
    "        tempo = pygame.time.get_ticks()\n",
    "        \n",
    "    evolucao[n] = {}\n",
    "    evolucao[n][\"tempo\"] = n*dt\n",
    "    \n",
    "    evolucao[n][\"A\"] = c_A\n",
    "    \n",
    "    evolucao[n][\"B\"] = c_B\n",
    "\n",
    "pygame.quit()\n"
   ]
  },
  {
   "cell_type": "markdown",
   "id": "0bcd2da3-6ce3-49eb-811a-92697075ea95",
   "metadata": {},
   "source": [
    "### Distribuição das velocidades"
   ]
  },
  {
   "cell_type": "code",
   "execution_count": 7,
   "id": "bcee0f6f-2e3f-41dd-badf-875241aaca9c",
   "metadata": {},
   "outputs": [
    {
     "data": {
      "image/png": "[encoded data removed]",
      "text/plain": [
       "<Figure size 432x288 with 1 Axes>"
      ]
     },
     "metadata": {
      "needs_background": "light"
     },
     "output_type": "display_data"
    }
   ],
   "source": [
    "velocidades = []\n",
    "\n",
    "for i in range(len(tempos) - 1):\n",
    "    velocidades.append(concentracoes[i]/tempos[i])\n",
    "\n",
    "# Coletar as velocidades das partículas ao longo do tempo\n",
    "velocidades = []\n",
    "for a in atomos:\n",
    "    v_norm = (((a.v[0])**2)+((a.v[1])**2))**(1/2)\n",
    "    velocidades.append(v_norm)\n",
    "\n",
    "# Criar um histograma das velocidades\n",
    "plt.figure()\n",
    "plt.hist(velocidades, bins=10, density=True, alpha=0.4)\n",
    "\n",
    "# Ajustar os dados a uma distribuição gaussiana usando a função norm.fit()\n",
    "mu, sigma = norm.fit(velocidades)\n",
    "\n",
    "# Calcular a distribuição gaussiana ajustada\n",
    "x = np.linspace(np.min(velocidades), np.max(velocidades), 100)\n",
    "normalizado = norm.pdf(x, mu, sigma)\n",
    "plt.plot(x, normalizado,  color='red',linewidth=2)\n",
    "plt.xlabel('Velocidade')\n",
    "plt.ylabel('Número de partículas')\n",
    "plt.title('Distribuição de Maxwell-Boltzman')\n",
    "plt.show()\n",
    "        "
   ]
  },
  {
   "cell_type": "markdown",
   "id": "5d2224cd-d0a7-4a85-a767-6b711ee9d682",
   "metadata": {},
   "source": [
    "### Concentração de reagentes e produtos"
   ]
  },
  {
   "cell_type": "code",
   "execution_count": 51,
   "id": "8f7763ec-b755-4c8e-8a1d-cbfd29641a28",
   "metadata": {},
   "outputs": [
    {
     "data": {
      "image/png": "[encoded data removed]",
      "text/plain": [
       "<Figure size 432x288 with 1 Axes>"
      ]
     },
     "metadata": {
      "needs_background": "light"
     },
     "output_type": "display_data"
    }
   ],
   "source": [
    "tempos = []\n",
    "concentracao_A = []\n",
    "concentracao_B = []\n",
    "\n",
    "for item in evolucao:\n",
    "    tempos.append(evolucao[item][\"tempo\"])\n",
    "    concentracao_A.append(evolucao[item][\"A\"])\n",
    "    concentracao_B.append(evolucao[item][\"B\"])\n",
    "\n",
    "plt.plot(tempos, concentracao_A, label = '[A]')\n",
    "plt.plot(tempos, concentracao_B , label = '[B]')\n",
    "plt.legend()\n",
    "plt.xlabel('Tempo')\n",
    "plt.ylabel('Concentração')\n",
    "#plt.savefig('concentracoes.png')\n",
    "plt.show()"
   ]
  },
  {
   "cell_type": "markdown",
   "id": "c35fc4ab-9abb-40e2-9920-dac93a60c56a",
   "metadata": {},
   "source": [
    "### Fit dos dados"
   ]
  },
  {
   "cell_type": "markdown",
   "id": "e8c6388e-ec76-4f2c-9a44-e6c6779d6b17",
   "metadata": {
    "tags": []
   },
   "source": [
    "Utiliza um modelo de fit que é comumente utilizado para descrever a viscosidade de líquidos em função da temperatura,\n",
    "mas que funcionou de forma satisfatória para a descrição da variação da concentração de reagentes em função do tempo. Nesse tipo de modelagem, a equação de VFT é dada por \n",
    "\n",
    "\n",
    "[A] = [A_0] * exp(B/(t  = t_0)). \n",
    "\n",
    "Para utilizarmos esse modelo, aplicamos o logaritmo natural de ambos os lados, obtendo a função modelo abaixo.\n",
    "\n",
    "\n"
   ]
  },
  {
   "cell_type": "code",
   "execution_count": 8,
   "id": "d4d45447-5424-42e3-89a6-3d2a94c28fad",
   "metadata": {},
   "outputs": [],
   "source": [
    "def VFT(T, log_concentracao_A0, K, T0):\n",
    "    log_concentracao = log_concentracao_A0 +  K / (T - T0)\n",
    "    return log_concentracao"
   ]
  },
  {
   "cell_type": "code",
   "execution_count": 57,
   "id": "20367d7b-5de4-4a99-97c6-3370b2afb211",
   "metadata": {},
   "outputs": [
    {
     "name": "stdout",
     "output_type": "stream",
     "text": [
      "Variável independente: ['T']\n",
      "Parâmetros do modelo: ['log_concentracao_A0', 'K', 'T0']\n",
      "Variável independente: ['T']\n",
      "Parâmetros do modelo: ['log_concentracao_A0', 'K', 'T0']\n"
     ]
    },
    {
     "data": {
      "image/png": "[encoded data removed]",
      "text/plain": [
       "<Figure size 432x288 with 1 Axes>"
      ]
     },
     "metadata": {
      "needs_background": "light"
     },
     "output_type": "display_data"
    }
   ],
   "source": [
    "l = 0\n",
    "melhores_fits = []\n",
    "\n",
    "for y_log in [concentracao_A, concentracao_B]:\n",
    "    x = tempos\n",
    "    #y_log = concentracao_A\n",
    "\n",
    "    modelo_VFT = Model(VFT)\n",
    "\n",
    "    print(f'Variável independente: {modelo_VFT.independent_vars}')\n",
    "\n",
    "    print(f'Parâmetros do modelo: {modelo_VFT.param_names}')\n",
    "\n",
    "    params = modelo_VFT.make_params(log_concentracao_A0=-8, K=1000, T0=-100)\n",
    "\n",
    "    resultado_fit = modelo_VFT.fit(y_log, params, T=x)\n",
    "    \n",
    "    melhores_fits.append(resultado_fit.best_fit)\n",
    "    if l == 0:\n",
    "        plt.plot(x, y_log)\n",
    "        plt.plot(x, resultado_fit.best_fit, linestyle='--', label='Concentração de A') \n",
    "    else:#\n",
    "        plt.plot(x, y_log)\n",
    "        plt.plot(x, resultado_fit.best_fit, label='Concentração de B')\n",
    "    l+=1\n",
    "    \n",
    "plt.xlabel('Tempo')\n",
    "plt.ylabel('Concentração [A]')\n",
    "plt.legend()\n",
    "plt.savefig('exemplo_fit_curva.png')\n",
    "plt.show()"
   ]
  },
  {
   "cell_type": "code",
   "execution_count": 9,
   "id": "d0f31492-1d80-4dc3-aef3-cfc3be846f8d",
   "metadata": {},
   "outputs": [
    {
     "ename": "NameError",
     "evalue": "name 'y_log' is not defined",
     "output_type": "error",
     "traceback": [
      "\u001b[1;31m---------------------------------------------------------------------------\u001b[0m",
      "\u001b[1;31mNameError\u001b[0m                                 Traceback (most recent call last)",
      "\u001b[1;32mC:\\Users\\THAYNA~1.ABT\\AppData\\Local\\Temp/ipykernel_10632/430463847.py\u001b[0m in \u001b[0;36m<module>\u001b[1;34m\u001b[0m\n\u001b[0;32m      1\u001b[0m \u001b[1;31m# Plot somente da concentração de A\u001b[0m\u001b[1;33m\u001b[0m\u001b[1;33m\u001b[0m\u001b[0m\n\u001b[0;32m      2\u001b[0m \u001b[1;33m\u001b[0m\u001b[0m\n\u001b[1;32m----> 3\u001b[1;33m \u001b[0mplt\u001b[0m\u001b[1;33m.\u001b[0m\u001b[0mplot\u001b[0m\u001b[1;33m(\u001b[0m\u001b[0mx\u001b[0m\u001b[1;33m,\u001b[0m \u001b[0my_log\u001b[0m\u001b[1;33m)\u001b[0m\u001b[1;33m\u001b[0m\u001b[1;33m\u001b[0m\u001b[0m\n\u001b[0m\u001b[0;32m      4\u001b[0m \u001b[0mplt\u001b[0m\u001b[1;33m.\u001b[0m\u001b[0mplot\u001b[0m\u001b[1;33m(\u001b[0m\u001b[0mx\u001b[0m\u001b[1;33m,\u001b[0m \u001b[0mresultado_fit\u001b[0m\u001b[1;33m.\u001b[0m\u001b[0mbest_fit\u001b[0m\u001b[1;33m,\u001b[0m \u001b[1;34m'-'\u001b[0m\u001b[1;33m,\u001b[0m \u001b[0mlabel\u001b[0m\u001b[1;33m=\u001b[0m\u001b[1;34m'Melhor ajuste encontrado'\u001b[0m\u001b[1;33m)\u001b[0m\u001b[1;33m\u001b[0m\u001b[1;33m\u001b[0m\u001b[0m\n\u001b[0;32m      5\u001b[0m \u001b[0mplt\u001b[0m\u001b[1;33m.\u001b[0m\u001b[0mxlabel\u001b[0m\u001b[1;33m(\u001b[0m\u001b[1;34m'Tempo'\u001b[0m\u001b[1;33m)\u001b[0m\u001b[1;33m\u001b[0m\u001b[1;33m\u001b[0m\u001b[0m\n",
      "\u001b[1;31mNameError\u001b[0m: name 'y_log' is not defined"
     ]
    }
   ],
   "source": [
    "# Plot somente da concentração de A\n",
    "\n",
    "plt.plot(x, y_log)\n",
    "plt.plot(x, resultado_fit.best_fit, '-', label='Melhor ajuste encontrado')\n",
    "plt.xlabel('Tempo')\n",
    "plt.ylabel('Concentração')\n",
    "plt.legend()\n",
    "plt.show()"
   ]
  },
  {
   "cell_type": "markdown",
   "id": "0f988211-c1bb-42b2-80bc-b60842970cb9",
   "metadata": {},
   "source": [
    "### Calculo da derivada da concentração do reagente A (velocidade)"
   ]
  },
  {
   "cell_type": "code",
   "execution_count": null,
   "id": "877dd8eb-fea6-4c4f-a362-0eb22cfdb535",
   "metadata": {},
   "outputs": [],
   "source": [
    "j = 0\n",
    "for i in melhores_fits:\n",
    "    y_p = np.diff(i) / np.diff(x)\n",
    "    x_p = (np.array(x)[:-1] + np.array(x)[1:]) / 2\n",
    "\n",
    "    derivada = np.array(y_p)*-1\n",
    "    \n",
    "    if j == 0:\n",
    "       plt.plot(x_p, derivada, label='d [A]')\n",
    "    #else:\n",
    "       # plt.plot(x_p, derivada, label='d [B]')\n",
    "    j+=1\n",
    "    \n",
    "plt.xlabel('Tempo')\n",
    "plt.ylabel('Velocidade de reação')\n",
    "plt.legend()\n",
    "plt.title('Derivada da concentracão em relação ao tempo')\n",
    "plt.show()"
   ]
  },
  {
   "cell_type": "markdown",
   "id": "d9b765cf-d30d-4054-939a-889ceba18038",
   "metadata": {},
   "source": [
    "### Plota o gráfico do logaritmo da concentração de A"
   ]
  },
  {
   "cell_type": "markdown",
   "id": "c082e9a5-429c-4d94-b003-76f1487d36b2",
   "metadata": {},
   "source": [
    "Como é uma reação de primeira ordem, esse gráfico deve ter comportamento linear. Assim, o coeficiente angular da reta que fita os dados equivale ao coeficiente de taxa de reação (K)."
   ]
  },
  {
   "cell_type": "code",
   "execution_count": 10,
   "id": "bc73d727-a707-42f2-91de-1a6b5261f463",
   "metadata": {},
   "outputs": [
    {
     "ename": "NameError",
     "evalue": "name 'melhores_fits' is not defined",
     "output_type": "error",
     "traceback": [
      "\u001b[1;31m---------------------------------------------------------------------------\u001b[0m",
      "\u001b[1;31mNameError\u001b[0m                                 Traceback (most recent call last)",
      "\u001b[1;32mC:\\Users\\THAYNA~1.ABT\\AppData\\Local\\Temp/ipykernel_10632/2405517573.py\u001b[0m in \u001b[0;36m<module>\u001b[1;34m\u001b[0m\n\u001b[0;32m      1\u001b[0m \u001b[0my_novo\u001b[0m \u001b[1;33m=\u001b[0m \u001b[1;33m[\u001b[0m\u001b[1;33m]\u001b[0m\u001b[1;33m\u001b[0m\u001b[1;33m\u001b[0m\u001b[0m\n\u001b[1;32m----> 2\u001b[1;33m \u001b[1;32mfor\u001b[0m \u001b[0mi\u001b[0m \u001b[1;32min\u001b[0m \u001b[0mmelhores_fits\u001b[0m\u001b[1;33m[\u001b[0m\u001b[1;36m0\u001b[0m\u001b[1;33m]\u001b[0m\u001b[1;33m:\u001b[0m\u001b[1;33m\u001b[0m\u001b[1;33m\u001b[0m\u001b[0m\n\u001b[0m\u001b[0;32m      3\u001b[0m     \u001b[0my_novo\u001b[0m\u001b[1;33m.\u001b[0m\u001b[0mappend\u001b[0m\u001b[1;33m(\u001b[0m\u001b[0mnp\u001b[0m\u001b[1;33m.\u001b[0m\u001b[0mlog\u001b[0m\u001b[1;33m(\u001b[0m\u001b[0mi\u001b[0m\u001b[1;33m)\u001b[0m\u001b[1;33m)\u001b[0m\u001b[1;33m\u001b[0m\u001b[1;33m\u001b[0m\u001b[0m\n\u001b[0;32m      4\u001b[0m \u001b[1;33m\u001b[0m\u001b[0m\n\u001b[0;32m      5\u001b[0m \u001b[1;31m# Ajustando uma reta de grau 1 (uma reta) aos pontos\u001b[0m\u001b[1;33m\u001b[0m\u001b[1;33m\u001b[0m\u001b[0m\n",
      "\u001b[1;31mNameError\u001b[0m: name 'melhores_fits' is not defined"
     ]
    }
   ],
   "source": [
    "y_novo = []\n",
    "for i in melhores_fits[0]:\n",
    "    y_novo.append(np.log(i))\n",
    "\n",
    "# Ajustando uma reta de grau 1 (uma reta) aos pontos\n",
    "coeficientes = np.polyfit(x, y_novo, 1)\n",
    "\n",
    "# Coeficiente angular da reta\n",
    "slope = coeficientes[0]\n",
    "reta2 = np.poly1d(coeficientes)\n",
    "\n",
    "k_value = f'K = {coeficientes[0]:.4f}'  # Formatando o valor de K\n",
    "\n",
    "plt.plot(x, y_novo)\n",
    "plt.plot(x, reta2(x))\n",
    "plt.text(1050, 4.5, k_value, fontsize=10, color='black')\n",
    "#plt.plot(x, resultado_fit.best_fit, '-', label='Melhor ajuste encontrado')\n",
    "plt.xlabel('Tempo')\n",
    "plt.ylabel('ln [A]')\n",
    "#plt.legend()\n",
    "plt.savefig('ln_concentracaoXtempo.png')\n",
    "plt.show()\n",
    "\n",
    "print(\"Coeficiente de taxa de reação:\", slope)"
   ]
  },
  {
   "cell_type": "code",
   "execution_count": 43,
   "id": "916ba7e4-00f0-48df-91a0-03c45792eb0b",
   "metadata": {},
   "outputs": [
    {
     "name": "stdout",
     "output_type": "stream",
     "text": [
      "-0.003833065830857778\n"
     ]
    }
   ],
   "source": [
    "#valor de k\n",
    "k = np.log(melhores_fits[0][1151]/melhores_fits[0][0])/x[1151] \n",
    "print(k)"
   ]
  },
  {
   "cell_type": "code",
   "execution_count": 44,
   "id": "490185b4-57cd-4b3b-b7de-372456d57e92",
   "metadata": {},
   "outputs": [
    {
     "ename": "SyntaxError",
     "evalue": "invalid syntax (Temp/ipykernel_17232/4107406460.py, line 1)",
     "output_type": "error",
     "traceback": [
      "\u001b[1;36m  File \u001b[1;32m\"C:\\Users\\THAYNA~1.ABT\\AppData\\Local\\Temp/ipykernel_17232/4107406460.py\"\u001b[1;36m, line \u001b[1;32m1\u001b[0m\n\u001b[1;33m    0.28877750872131475 e 1.9660\u001b[0m\n\u001b[1;37m                        ^\u001b[0m\n\u001b[1;31mSyntaxError\u001b[0m\u001b[1;31m:\u001b[0m invalid syntax\n"
     ]
    }
   ],
   "source": [
    " 0.28877750872131475 e 1.9660"
   ]
  },
  {
   "cell_type": "code",
   "execution_count": 59,
   "id": "d43eb443-80e1-4cde-9740-4619e6ab9afe",
   "metadata": {},
   "outputs": [
    {
     "data": {
      "image/png": "[encoded data removed]",
      "text/plain": [
       "<Figure size 432x288 with 1 Axes>"
      ]
     },
     "metadata": {
      "needs_background": "light"
     },
     "output_type": "display_data"
    },
    {
     "name": "stdout",
     "output_type": "stream",
     "text": [
      "0.03105141117446897\n"
     ]
    }
   ],
   "source": [
    "y = [0.22522327, 0.28877750872131475, 0.818069704403778, 1.0446304613446575, 1.3209549128583642, 1.6775185718821792, 1.9660003008353517, 2.55827526, 2.78552949, 3.02296744]\n",
    "\n",
    "#derivada = [0.29, 1.57, 5.91]\n",
    "x = [40, 50, 60, 70, 80, 90, 100, 110, 120, 140] #num atomos\n",
    "\n",
    "# Lista de coordenadas x e y dos pontos\n",
    " \n",
    "# Ajustando uma reta de grau 1 (uma reta) aos pontos\n",
    "coeficientes = np.polyfit(x, y, 1)\n",
    " \n",
    "# Criando uma função de reta com base nos coeficientes encontrados\n",
    "reta = np.poly1d(coeficientes)\n",
    " \n",
    "# Plotar os pontos\n",
    "plt.scatter(x, y, color='red', marker='o', label='Amostras')\n",
    " \n",
    "# Plotar a reta de melhor ajuste\n",
    "plt.plot(x, reta(x), color='blue', label='Reta de Melhor Ajuste')\n",
    " \n",
    "# Adicionar rótulos aos eixos\n",
    "plt.xlabel('Concentração inicial de A')\n",
    "plt.ylabel('Velocidade inicial')\n",
    " \n",
    "# Adicionar um título ao gráfico\n",
    "#plt.title('Gráfico da velicidade inicial x número de átomos A')\n",
    " \n",
    "# Adicionar uma legenda\n",
    "plt.legend()\n",
    "\n",
    "#k_value = f'K = {coeficientes[0]:.4f}'  # Formatando o valor de K\n",
    "#plt.text(120, 0.2, k_value, fontsize=10, color='black')\n",
    "# Exibir o gráfico\n",
    "plt.savefig('primeira_velocidade.png')\n",
    "plt.show()\n",
    "print(coeficientes[0]) #encontra K (coeficiente angular da reta)\n"
   ]
  },
  {
   "cell_type": "markdown",
   "id": "dddf2cee-fc88-434f-9d6b-1be4b0bf92a5",
   "metadata": {},
   "source": [
    "110 - 2.55827526\n",
    "120 - 2.78552949\n",
    "130 - "
   ]
  },
  {
   "cell_type": "code",
   "execution_count": 45,
   "id": "35a09a52-0a97-4ef5-9700-97a2ff1b5a00",
   "metadata": {},
   "outputs": [
    {
     "data": {
      "image/png": "[encoded data removed]",
      "text/plain": [
       "<Figure size 432x288 with 1 Axes>"
      ]
     },
     "metadata": {
      "needs_background": "light"
     },
     "output_type": "display_data"
    }
   ],
   "source": [
    "melhores_fits[0]\n",
    "y_novo = []\n",
    "\n",
    "for i in melhores_fits[0]:\n",
    "    y_novo.append(1/i)\n",
    "\n",
    "# Ajustando uma reta de grau 1 (uma reta) aos pontos\n",
    "#coeficientes = np.polyfit(x, y_novo, 1)\n",
    "\n",
    "# Coeficiente angular da reta\n",
    "#slope = coeficientes[0]\n",
    "#reta2 = np.poly1d(coeficientes)\n",
    "\n",
    "plt.plot(tempos,y_novo)\n",
    "#plt.plot(x, reta2(x))\n",
    " \n",
    "#plt.plot(x, resultado_fit.best_fit, '-', label='Melhor ajuste encontrado')\n",
    "plt.xlabel('Tempo')\n",
    "plt.ylabel('1 / [A]')\n",
    "#plt.legend()\n",
    "plt.savefig('inversa_concentracaoXtempo.png')\n",
    "plt.show()\n",
    "\n",
    "#print(slope)"
   ]
  },
  {
   "cell_type": "code",
   "execution_count": 60,
   "id": "d00703a1-60b7-41df-8b15-33627e4cbb40",
   "metadata": {},
   "outputs": [
    {
     "data": {
      "text/plain": [
       "216.6084939249829"
      ]
     },
     "execution_count": 60,
     "metadata": {},
     "output_type": "execute_result"
    }
   ],
   "source": [
    "np.log(2)/0.0032"
   ]
  },
  {
   "cell_type": "code",
   "execution_count": null,
   "id": "72baf0d2-dbf5-46eb-a41f-e39c9061eb4a",
   "metadata": {},
   "outputs": [],
   "source": []
  }
 ],
 "metadata": {
  "kernelspec": {
   "display_name": "ilumpy",
   "language": "python",
   "name": "ilumpy"
  },
  "language_info": {
   "codemirror_mode": {
    "name": "ipython",
    "version": 3
   },
   "file_extension": ".py",
   "mimetype": "text/x-python",
   "name": "python",
   "nbconvert_exporter": "python",
   "pygments_lexer": "ipython3",
   "version": "3.9.7"
  }
 },
 "nbformat": 4,
 "nbformat_minor": 5
}
