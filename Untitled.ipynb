{
 "cells": [
  {
   "cell_type": "code",
   "execution_count": 1,
   "id": "a7c7b9d4-3475-4bf7-838a-146465b1d377",
   "metadata": {},
   "outputs": [],
   "source": [
    "def fun(T,Ci,Cf,K):\n",
    "    \n",
    "    Cf = Ci* np.exp(-k*T)\n",
    "    \n",
    "    return Cf"
   ]
  },
  {
   "cell_type": "code",
   "execution_count": null,
   "id": "410b3643-8074-4cec-88fc-e84b0473430d",
   "metadata": {},
   "outputs": [],
   "source": [
    "Ci = 50 \n",
    "\n"
   ]
  }
 ],
 "metadata": {
  "kernelspec": {
   "display_name": "ilumpy",
   "language": "python",
   "name": "ilumpy"
  },
  "language_info": {
   "codemirror_mode": {
    "name": "ipython",
    "version": 3
   },
   "file_extension": ".py",
   "mimetype": "text/x-python",
   "name": "python",
   "nbconvert_exporter": "python",
   "pygments_lexer": "ipython3",
   "version": "3.9.7"
  }
 },
 "nbformat": 4,
 "nbformat_minor": 5
}
